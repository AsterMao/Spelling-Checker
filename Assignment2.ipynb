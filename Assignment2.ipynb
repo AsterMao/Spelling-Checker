{
 "cells": [
  {
   "cell_type": "code",
   "execution_count": 11,
   "metadata": {},
   "outputs": [
    {
     "name": "stdout",
     "output_type": "stream",
     "text": [
      "請輸入一個字串: aster\n",
      "輸入正確 aster\n",
      "字典中有: aster\n",
      "\n"
     ]
    }
   ],
   "source": [
    "def distance(s1, s2):\n",
    "    m=len(s1)+1\n",
    "    n=len(s2)+1\n",
    "    tbl = {}\n",
    "    for i in range(m): tbl[i,0]=i\n",
    "    for j in range(n): tbl[0,j]=j\n",
    "    for i in range(1, m):\n",
    "        for j in range(1, n):\n",
    "            cost = 0 if s1[i-1] == s2[j-1] else 1\n",
    "            tbl[i,j] = min(tbl[i, j-1]+1, tbl[i-1, j]+1, tbl[i-1, j-1]+cost)\n",
    "    return tbl[i,j]\n",
    "\n",
    "inputs = input(\"請輸入一個字串: \")\n",
    "string = inputs.strip()\n",
    "file = open(\"dictionary.txt\",'r').readlines()\n",
    "decide=1\n",
    "list1=[]\n",
    "list2=[]\n",
    "for line in file:\n",
    "     if distance(string,line.strip())==0:\n",
    "            print(\"輸入正確\",string)\n",
    "            print(\"字典中有:\",line)\n",
    "            decide=0\n",
    "if decide==1:\n",
    "    for line in file:\n",
    "        if distance(string,line.strip())<3:\n",
    "            list1.append(line.strip())\n",
    "            list2.append(distance(string,line.strip()))\n",
    "            'print(\"相似字: \",line.strip(),\" 距離: \",distance(string,line.strip()))'"
   ]
  },
  {
   "cell_type": "code",
   "execution_count": 10,
   "metadata": {},
   "outputs": [
    {
     "name": "stdout",
     "output_type": "stream",
     "text": [
      "相似字:  a 距離:  2\n",
      "相似字:  abc 距離:  2\n",
      "相似字:  ace 距離:  2\n"
     ]
    }
   ],
   "source": [
    "    for t in range(0,3,1):\n",
    "        print(\"相似字: \",list1[t],\"距離: \",list2[t])\n",
    "\n",
    "    "
   ]
  },
  {
   "cell_type": "code",
   "execution_count": null,
   "metadata": {},
   "outputs": [],
   "source": []
  }
 ],
 "metadata": {
  "kernelspec": {
   "display_name": "Python 3",
   "language": "python",
   "name": "python3"
  },
  "language_info": {
   "codemirror_mode": {
    "name": "ipython",
    "version": 3
   },
   "file_extension": ".py",
   "mimetype": "text/x-python",
   "name": "python",
   "nbconvert_exporter": "python",
   "pygments_lexer": "ipython3",
   "version": "3.5.6"
  }
 },
 "nbformat": 4,
 "nbformat_minor": 2
}
